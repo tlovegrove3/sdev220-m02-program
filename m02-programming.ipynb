{
 "cells": [
  {
   "cell_type": "code",
   "execution_count": 4,
   "id": "e3f5a3b4-3926-46c4-b8db-77f8e10cc87a",
   "metadata": {},
   "outputs": [
    {
     "name": "stdout",
     "output_type": "stream",
     "text": [
      "too low\n"
     ]
    }
   ],
   "source": [
    "# 4.1\n",
    "\n",
    "# setting test values\n",
    "secret = 7\n",
    "guess = 3\n",
    "if guess > secret:\n",
    "    print(\"too high\")\n",
    "elif guess < secret:\n",
    "    print(\"too low\")\n",
    "else:\n",
    "    print(\"just right\")"
   ]
  },
  {
   "cell_type": "code",
   "execution_count": 18,
   "id": "18d002a3-1604-40e0-8572-b9f41a18cc97",
   "metadata": {},
   "outputs": [
    {
     "name": "stdout",
     "output_type": "stream",
     "text": [
      "Choice was cherry\n",
      "Small? True\n",
      "Green? False\n"
     ]
    }
   ],
   "source": [
    "# 4.2\n",
    "\n",
    "# setting defaults\n",
    "small = False\n",
    "green = False\n",
    "choice = ''\n",
    "\n",
    "# test value\n",
    "choice = 'cherry'\n",
    "\n",
    "if choice == 'watermelon':\n",
    "    small = False\n",
    "    green = True\n",
    "elif choice == 'pumpkin':\n",
    "    small = False\n",
    "    green = False\n",
    "elif choice == 'cherry':\n",
    "    small = True\n",
    "    green = False\n",
    "elif choice == 'pea':\n",
    "    small = True\n",
    "    green = True\n",
    "\n",
    "# Testing output from test value\n",
    "\n",
    "print('Choice was', choice)\n",
    "print('Small?', small)\n",
    "print('Green?', green)"
   ]
  },
  {
   "cell_type": "code",
   "execution_count": 20,
   "id": "c52de3dc-ce7a-4cce-a479-ebd663e9f03c",
   "metadata": {},
   "outputs": [
    {
     "name": "stdout",
     "output_type": "stream",
     "text": [
      "3\n",
      "2\n",
      "1\n",
      "0\n"
     ]
    }
   ],
   "source": [
    "# 6.1\n",
    "\n",
    "numbers = [3, 2, 1, 0]\n",
    "for number in numbers:\n",
    "    print(number)\n",
    "\n"
   ]
  },
  {
   "cell_type": "code",
   "execution_count": 36,
   "id": "45af351f-a086-47b5-b8ae-46f2ca42c422",
   "metadata": {},
   "outputs": [
    {
     "name": "stdout",
     "output_type": "stream",
     "text": [
      "too low\n",
      "too low\n",
      "too low\n",
      "too low\n",
      "too low\n",
      "too low\n",
      "found it!\n"
     ]
    }
   ],
   "source": [
    "# 6.2\n",
    "\n",
    "guess_me = 7\n",
    "number\n",
    "while number <= guess_me:\n",
    "    if number < guess_me:\n",
    "        print('too low')\n",
    "    elif number == guess_me:\n",
    "        print('found it!')\n",
    "        break\n",
    "    else:\n",
    "        print('oops')\n",
    "        break\n",
    "    number += 1\n",
    "    \n"
   ]
  },
  {
   "cell_type": "code",
   "execution_count": 30,
   "id": "b8d94703-6d94-470f-92b4-3dff9f36f0b8",
   "metadata": {
    "scrolled": true
   },
   "outputs": [
    {
     "name": "stdout",
     "output_type": "stream",
     "text": [
      "too low\n",
      "too low\n",
      "too low\n",
      "too low\n",
      "too low\n",
      "found it!\n"
     ]
    }
   ],
   "source": [
    "# 6.3\n",
    "\n",
    "guess_me = 5\n",
    "number \n",
    "\n",
    "for number in range(0, 11):\n",
    "    if number < guess_me:\n",
    "        print('too low')\n",
    "    elif number == guess_me:\n",
    "        print('found it!')\n",
    "        break\n",
    "    else:\n",
    "        print('oops')\n",
    "        break\n"
   ]
  },
  {
   "cell_type": "code",
   "execution_count": null,
   "id": "8840fffa-754a-4f56-9363-5a4a8f56360e",
   "metadata": {},
   "outputs": [],
   "source": []
  }
 ],
 "metadata": {
  "kernelspec": {
   "display_name": "Python 3 (ipykernel)",
   "language": "python",
   "name": "python3"
  },
  "language_info": {
   "codemirror_mode": {
    "name": "ipython",
    "version": 3
   },
   "file_extension": ".py",
   "mimetype": "text/x-python",
   "name": "python",
   "nbconvert_exporter": "python",
   "pygments_lexer": "ipython3",
   "version": "3.12.7"
  }
 },
 "nbformat": 4,
 "nbformat_minor": 5
}
